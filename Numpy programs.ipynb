{
 "cells": [
  {
   "cell_type": "markdown",
   "id": "b34e026c",
   "metadata": {},
   "source": [
    "# The Numpy Module"
   ]
  },
  {
   "cell_type": "markdown",
   "id": "2e7bae29",
   "metadata": {},
   "source": [
    "## Creating a Numpy array"
   ]
  },
  {
   "cell_type": "code",
   "execution_count": 1,
   "id": "10f3a265",
   "metadata": {},
   "outputs": [],
   "source": [
    "import numpy as np"
   ]
  },
  {
   "cell_type": "code",
   "execution_count": 2,
   "id": "ae11028a",
   "metadata": {},
   "outputs": [],
   "source": [
    "arr = np.array([1, 2, 3, 4, 5])"
   ]
  },
  {
   "cell_type": "code",
   "execution_count": 3,
   "id": "3390f9d6",
   "metadata": {},
   "outputs": [
    {
     "name": "stdout",
     "output_type": "stream",
     "text": [
      "[1 2 3 4 5]\n"
     ]
    }
   ],
   "source": [
    "print(arr)"
   ]
  },
  {
   "cell_type": "code",
   "execution_count": 7,
   "id": "f8568d74",
   "metadata": {},
   "outputs": [
    {
     "name": "stdout",
     "output_type": "stream",
     "text": [
      "<class 'numpy.ndarray'>\n"
     ]
    }
   ],
   "source": [
    "#Shows type of data that my array holds\n",
    "print(type(arr))"
   ]
  },
  {
   "cell_type": "code",
   "execution_count": 6,
   "id": "264c0f75",
   "metadata": {},
   "outputs": [
    {
     "name": "stdout",
     "output_type": "stream",
     "text": [
      "1.21.5\n"
     ]
    }
   ],
   "source": [
    "#Shows current version of numpy present in my system\n",
    "print(np.__version__)"
   ]
  },
  {
   "cell_type": "code",
   "execution_count": 10,
   "id": "364571d1",
   "metadata": {},
   "outputs": [],
   "source": [
    "#Creates a 0-D array\n",
    "arr = np.array(42)"
   ]
  },
  {
   "cell_type": "code",
   "execution_count": 11,
   "id": "45bcdcbc",
   "metadata": {},
   "outputs": [
    {
     "name": "stdout",
     "output_type": "stream",
     "text": [
      "42\n"
     ]
    }
   ],
   "source": [
    "print(arr)"
   ]
  },
  {
   "cell_type": "code",
   "execution_count": 12,
   "id": "d7cf25b8",
   "metadata": {},
   "outputs": [
    {
     "name": "stdout",
     "output_type": "stream",
     "text": [
      "[1 2 3 4 5]\n"
     ]
    }
   ],
   "source": [
    "#Creates a 1-D array\n",
    "arr1 = np.array([1, 2, 3, 4, 5])\n",
    "print(arr1)"
   ]
  },
  {
   "cell_type": "code",
   "execution_count": 13,
   "id": "12540611",
   "metadata": {},
   "outputs": [
    {
     "name": "stdout",
     "output_type": "stream",
     "text": [
      "[[1 2 3 4 5]\n",
      " [1 2 3 4 5]]\n"
     ]
    }
   ],
   "source": [
    "#Creates a 2-D array\n",
    "arr2 = np.array([[1, 2, 3, 4, 5], [1, 2, 3, 4, 5]])\n",
    "print(arr2)"
   ]
  },
  {
   "cell_type": "code",
   "execution_count": 14,
   "id": "0dfbba0a",
   "metadata": {},
   "outputs": [
    {
     "name": "stdout",
     "output_type": "stream",
     "text": [
      "[[[1 2 3]\n",
      "  [4 5 6]]\n",
      "\n",
      " [[1 2 3]\n",
      "  [4 5 6]]]\n"
     ]
    }
   ],
   "source": [
    "#Creates a 3-D array\n",
    "arr3 = np.array([[[1, 2, 3], [4, 5, 6]], [[1, 2, 3], [4, 5, 6]]])\n",
    "print(arr3)"
   ]
  },
  {
   "cell_type": "code",
   "execution_count": 15,
   "id": "3dc5e12c",
   "metadata": {},
   "outputs": [
    {
     "name": "stdout",
     "output_type": "stream",
     "text": [
      "0\n",
      "1\n",
      "2\n",
      "3\n"
     ]
    }
   ],
   "source": [
    "#to check number of dimensions\n",
    "print(arr.ndim) #prints 0\n",
    "print(arr1.ndim) #prints 1\n",
    "print(arr2.ndim) #prints 2\n",
    "print(arr3.ndim) #prints 3"
   ]
  },
  {
   "cell_type": "code",
   "execution_count": 17,
   "id": "28c791cb",
   "metadata": {},
   "outputs": [
    {
     "name": "stdout",
     "output_type": "stream",
     "text": [
      "[[[[[1 2 3 4 5]]]]]\n"
     ]
    }
   ],
   "source": [
    "#to initialize an array by specifying the dimensions in the np.array() function\n",
    "arr4 = np.array([1, 2, 3, 4, 5], ndmin=5)\n",
    "print(arr4) #prints an array of dimension 5"
   ]
  },
  {
   "cell_type": "markdown",
   "id": "6f8c0138",
   "metadata": {},
   "source": [
    "# Accessing Array elements"
   ]
  },
  {
   "cell_type": "code",
   "execution_count": 18,
   "id": "798a8dc6",
   "metadata": {},
   "outputs": [
    {
     "name": "stdout",
     "output_type": "stream",
     "text": [
      "1\n",
      "2\n"
     ]
    }
   ],
   "source": [
    "print(arr1[0]) #prints first element of arr1\n",
    "print(arr1[1]) #prints second element of arr2"
   ]
  },
  {
   "cell_type": "markdown",
   "id": "4137cccf",
   "metadata": {},
   "source": [
    "#### Accessing 2-D arrays"
   ]
  },
  {
   "cell_type": "code",
   "execution_count": 19,
   "id": "4e6ec781",
   "metadata": {},
   "outputs": [
    {
     "name": "stdout",
     "output_type": "stream",
     "text": [
      "2\n"
     ]
    }
   ],
   "source": [
    "print(arr2[0, 1]) #arrayName[rowno, colno]"
   ]
  },
  {
   "cell_type": "markdown",
   "id": "dc3093f5",
   "metadata": {},
   "source": [
    "#### Accessing 3-D arrays"
   ]
  },
  {
   "cell_type": "code",
   "execution_count": 20,
   "id": "50833b98",
   "metadata": {},
   "outputs": [
    {
     "name": "stdout",
     "output_type": "stream",
     "text": [
      "6\n"
     ]
    }
   ],
   "source": [
    "print(arr3[0, 1, 2]) # Access the third element of the second array of the first array"
   ]
  },
  {
   "cell_type": "markdown",
   "id": "3b867b88",
   "metadata": {},
   "source": [
    "#### Negative array indexing"
   ]
  },
  {
   "cell_type": "code",
   "execution_count": 27,
   "id": "aff6bb33",
   "metadata": {},
   "outputs": [
    {
     "name": "stdout",
     "output_type": "stream",
     "text": [
      "5\n"
     ]
    }
   ],
   "source": [
    "print(arr1[-1])"
   ]
  },
  {
   "cell_type": "markdown",
   "id": "be4c2912",
   "metadata": {},
   "source": [
    "# Array Slicing"
   ]
  },
  {
   "cell_type": "code",
   "execution_count": 23,
   "id": "f3864920",
   "metadata": {},
   "outputs": [
    {
     "name": "stdout",
     "output_type": "stream",
     "text": [
      "[2 3 4]\n"
     ]
    }
   ],
   "source": [
    "print(arr1[1:4])"
   ]
  },
  {
   "cell_type": "code",
   "execution_count": 24,
   "id": "ed86134b",
   "metadata": {},
   "outputs": [
    {
     "name": "stdout",
     "output_type": "stream",
     "text": [
      "[1 2 3 4]\n"
     ]
    }
   ],
   "source": [
    "print(arr1[:4])"
   ]
  },
  {
   "cell_type": "code",
   "execution_count": 25,
   "id": "e9fb1332",
   "metadata": {},
   "outputs": [
    {
     "name": "stdout",
     "output_type": "stream",
     "text": [
      "[5]\n"
     ]
    }
   ],
   "source": [
    "print(arr1[4:])"
   ]
  },
  {
   "cell_type": "code",
   "execution_count": 28,
   "id": "f8a1a1f5",
   "metadata": {},
   "outputs": [
    {
     "name": "stdout",
     "output_type": "stream",
     "text": [
      "[3 4]\n"
     ]
    }
   ],
   "source": [
    "print(arr1[-3:-1])"
   ]
  },
  {
   "cell_type": "code",
   "execution_count": 30,
   "id": "33e9a1ba",
   "metadata": {},
   "outputs": [
    {
     "name": "stdout",
     "output_type": "stream",
     "text": [
      "[2 4]\n"
     ]
    }
   ],
   "source": [
    "print(arr1[1:5:2]) #arrayName[start:stop:step]"
   ]
  },
  {
   "cell_type": "code",
   "execution_count": 31,
   "id": "b0deab5d",
   "metadata": {},
   "outputs": [
    {
     "name": "stdout",
     "output_type": "stream",
     "text": [
      "[[2 3 4]\n",
      " [2 3 4]]\n"
     ]
    }
   ],
   "source": [
    "print(arr2[0:2, 1:4])"
   ]
  },
  {
   "cell_type": "markdown",
   "id": "283e8969",
   "metadata": {},
   "source": [
    "# Numpy Datatypes"
   ]
  },
  {
   "cell_type": "code",
   "execution_count": 32,
   "id": "60cf92b9",
   "metadata": {},
   "outputs": [
    {
     "name": "stdout",
     "output_type": "stream",
     "text": [
      "int32\n"
     ]
    }
   ],
   "source": [
    "#Returns data type of arr1\n",
    "print(arr1.dtype)"
   ]
  },
  {
   "cell_type": "code",
   "execution_count": 33,
   "id": "22dbb148",
   "metadata": {},
   "outputs": [
    {
     "name": "stdout",
     "output_type": "stream",
     "text": [
      "|S1\n"
     ]
    }
   ],
   "source": [
    "#Creating an array with data type specified\n",
    "arr5 = np.array([1, 2, 3, 4, 5], dtype='S')\n",
    "print(arr5.dtype)"
   ]
  },
  {
   "cell_type": "code",
   "execution_count": 34,
   "id": "9cc675d4",
   "metadata": {},
   "outputs": [
    {
     "name": "stdout",
     "output_type": "stream",
     "text": [
      "[1 2 3 4 5]\n",
      "int32\n"
     ]
    }
   ],
   "source": [
    "#Converting data type of arr5 from string to integer\n",
    "newarr = arr5.astype('i')\n",
    "print(newarr)\n",
    "print(newarr.dtype)"
   ]
  },
  {
   "cell_type": "markdown",
   "id": "b3b26a6f",
   "metadata": {},
   "source": [
    "# Copying and viewing an array"
   ]
  },
  {
   "cell_type": "code",
   "execution_count": 35,
   "id": "c9e110ed",
   "metadata": {},
   "outputs": [
    {
     "name": "stdout",
     "output_type": "stream",
     "text": [
      "[1 2 3 4 5]\n"
     ]
    }
   ],
   "source": [
    "#Copying an array\n",
    "x = arr1.copy()\n",
    "print(x)"
   ]
  },
  {
   "cell_type": "code",
   "execution_count": 36,
   "id": "11ab279e",
   "metadata": {},
   "outputs": [
    {
     "name": "stdout",
     "output_type": "stream",
     "text": [
      "[1 2 3 4 5]\n"
     ]
    }
   ],
   "source": [
    "#Viewing the array\n",
    "y = arr1.view()\n",
    "print(y)"
   ]
  },
  {
   "cell_type": "code",
   "execution_count": 37,
   "id": "327aae7f",
   "metadata": {},
   "outputs": [
    {
     "name": "stdout",
     "output_type": "stream",
     "text": [
      "None\n"
     ]
    }
   ],
   "source": [
    "#the base attribute checks whether the array owns the data or not \n",
    "#If it returns None that means the array owns the data\n",
    "print(x.base)"
   ]
  },
  {
   "cell_type": "code",
   "execution_count": 38,
   "id": "46f0f982",
   "metadata": {},
   "outputs": [
    {
     "name": "stdout",
     "output_type": "stream",
     "text": [
      "[1 2 3 4 5]\n"
     ]
    }
   ],
   "source": [
    "print(y.base)"
   ]
  },
  {
   "cell_type": "markdown",
   "id": "6dab12b8",
   "metadata": {},
   "source": [
    "# Shape of numpy array"
   ]
  },
  {
   "cell_type": "code",
   "execution_count": 39,
   "id": "6cdad0e4",
   "metadata": {},
   "outputs": [
    {
     "name": "stdout",
     "output_type": "stream",
     "text": [
      "(5,)\n"
     ]
    }
   ],
   "source": [
    "print(arr1.shape)"
   ]
  },
  {
   "cell_type": "code",
   "execution_count": 40,
   "id": "d87a9b76",
   "metadata": {},
   "outputs": [
    {
     "name": "stdout",
     "output_type": "stream",
     "text": [
      "(2, 5)\n"
     ]
    }
   ],
   "source": [
    "print(arr2.shape)"
   ]
  },
  {
   "cell_type": "code",
   "execution_count": 41,
   "id": "12fa4a52",
   "metadata": {},
   "outputs": [
    {
     "name": "stdout",
     "output_type": "stream",
     "text": [
      "(2, 2, 3)\n"
     ]
    }
   ],
   "source": [
    "print(arr3.shape)"
   ]
  },
  {
   "cell_type": "code",
   "execution_count": 42,
   "id": "7de47ca1",
   "metadata": {},
   "outputs": [
    {
     "name": "stdout",
     "output_type": "stream",
     "text": [
      "(1, 1, 1, 1, 5)\n"
     ]
    }
   ],
   "source": [
    "print(arr4.shape)"
   ]
  },
  {
   "cell_type": "markdown",
   "id": "5d3402f2",
   "metadata": {},
   "source": [
    "# Flattening array"
   ]
  },
  {
   "cell_type": "code",
   "execution_count": 50,
   "id": "8beba639",
   "metadata": {},
   "outputs": [
    {
     "name": "stdout",
     "output_type": "stream",
     "text": [
      "[1 2 3 4 5 1 2 3 4 5]\n"
     ]
    }
   ],
   "source": [
    "print(arr2.reshape(-1))"
   ]
  },
  {
   "cell_type": "markdown",
   "id": "7e1361f2",
   "metadata": {},
   "source": [
    "# Iterating over the array"
   ]
  },
  {
   "cell_type": "markdown",
   "id": "f1248034",
   "metadata": {},
   "source": [
    "### For 2-D arrays"
   ]
  },
  {
   "cell_type": "code",
   "execution_count": 51,
   "id": "5e5b9323",
   "metadata": {},
   "outputs": [
    {
     "name": "stdout",
     "output_type": "stream",
     "text": [
      "[1 2 3 4 5]\n",
      "[1 2 3 4 5]\n"
     ]
    }
   ],
   "source": [
    "for x in arr2:\n",
    "    print(x)"
   ]
  },
  {
   "cell_type": "code",
   "execution_count": 52,
   "id": "1682a9e7",
   "metadata": {},
   "outputs": [
    {
     "name": "stdout",
     "output_type": "stream",
     "text": [
      "1\n",
      "2\n",
      "3\n",
      "4\n",
      "5\n",
      "1\n",
      "2\n",
      "3\n",
      "4\n",
      "5\n"
     ]
    }
   ],
   "source": [
    "for x in arr2:\n",
    "    for y in x:\n",
    "        print(y)"
   ]
  },
  {
   "cell_type": "markdown",
   "id": "251d7f9e",
   "metadata": {},
   "source": [
    "### Iterating over 3-D arrays"
   ]
  },
  {
   "cell_type": "code",
   "execution_count": 53,
   "id": "727a2f36",
   "metadata": {},
   "outputs": [
    {
     "name": "stdout",
     "output_type": "stream",
     "text": [
      "[[1 2 3]\n",
      " [4 5 6]]\n",
      "[[1 2 3]\n",
      " [4 5 6]]\n"
     ]
    }
   ],
   "source": [
    "for x in arr3:\n",
    "    print(x)"
   ]
  },
  {
   "cell_type": "code",
   "execution_count": 54,
   "id": "369c17ec",
   "metadata": {},
   "outputs": [
    {
     "name": "stdout",
     "output_type": "stream",
     "text": [
      "1\n",
      "2\n",
      "3\n",
      "4\n",
      "5\n",
      "6\n",
      "1\n",
      "2\n",
      "3\n",
      "4\n",
      "5\n",
      "6\n"
     ]
    }
   ],
   "source": [
    "for x in arr3:\n",
    "    for y in x:\n",
    "        for z in y:\n",
    "            print(z)"
   ]
  },
  {
   "cell_type": "code",
   "execution_count": 56,
   "id": "a16656db",
   "metadata": {},
   "outputs": [
    {
     "name": "stdout",
     "output_type": "stream",
     "text": [
      "1\n",
      "2\n",
      "3\n",
      "4\n",
      "5\n",
      "1\n",
      "2\n",
      "3\n",
      "4\n",
      "5\n"
     ]
    }
   ],
   "source": [
    "for x in np.nditer(arr2):\n",
    "    print(x)"
   ]
  },
  {
   "cell_type": "code",
   "execution_count": 58,
   "id": "6b9a9047",
   "metadata": {},
   "outputs": [
    {
     "name": "stdout",
     "output_type": "stream",
     "text": [
      "b'1'\n",
      "b'2'\n",
      "b'3'\n",
      "b'4'\n",
      "b'5'\n",
      "b'1'\n",
      "b'2'\n",
      "b'3'\n",
      "b'4'\n",
      "b'5'\n"
     ]
    }
   ],
   "source": [
    "for x in np.nditer(arr2, flags = ['buffered'], op_dtypes=['S']):\n",
    "    print(x)"
   ]
  },
  {
   "cell_type": "code",
   "execution_count": 59,
   "id": "35ab92f7",
   "metadata": {},
   "outputs": [
    {
     "name": "stdout",
     "output_type": "stream",
     "text": [
      "1\n",
      "3\n",
      "5\n",
      "1\n",
      "3\n",
      "5\n"
     ]
    }
   ],
   "source": [
    "#iterate through every scalar element of the 2D array skipping 1 element\n",
    "for x in np.nditer(arr2[:,::2]):\n",
    "    print(x)"
   ]
  },
  {
   "cell_type": "code",
   "execution_count": 61,
   "id": "cd70d8f8",
   "metadata": {},
   "outputs": [
    {
     "name": "stdout",
     "output_type": "stream",
     "text": [
      "(0, 0) 1\n",
      "(0, 1) 2\n",
      "(0, 2) 3\n",
      "(0, 3) 4\n",
      "(0, 4) 5\n",
      "(1, 0) 1\n",
      "(1, 1) 2\n",
      "(1, 2) 3\n",
      "(1, 3) 4\n",
      "(1, 4) 5\n"
     ]
    }
   ],
   "source": [
    "#Iteration using the ndenumerate() function\n",
    "for idx, x in np.ndenumerate(arr2):\n",
    "    print(idx, x)"
   ]
  },
  {
   "cell_type": "markdown",
   "id": "3ec10d00",
   "metadata": {},
   "source": [
    "# Joining of arrays in numpy"
   ]
  },
  {
   "cell_type": "code",
   "execution_count": 64,
   "id": "fd09fc84",
   "metadata": {},
   "outputs": [
    {
     "name": "stdout",
     "output_type": "stream",
     "text": [
      "[ 1  2  3  4  5  6  7  8  9 10]\n"
     ]
    }
   ],
   "source": [
    "arr6 = np.array([6, 7, 8, 9, 10])\n",
    "arr7 = np.concatenate((arr1, arr6))\n",
    "print(arr7)"
   ]
  },
  {
   "cell_type": "code",
   "execution_count": 68,
   "id": "9bab459f",
   "metadata": {},
   "outputs": [
    {
     "name": "stdout",
     "output_type": "stream",
     "text": [
      "[[1 2 3 4 5 1 2 3]\n",
      " [1 2 3 4 5 4 5 6]]\n"
     ]
    }
   ],
   "source": [
    "#Concatenates along rows\n",
    "arr7 = np.array([[1, 2, 3], [4, 5, 6]])\n",
    "arr8 = np.concatenate((arr2, arr7), axis = 1)\n",
    "print(arr8)"
   ]
  },
  {
   "cell_type": "code",
   "execution_count": 69,
   "id": "360eaf6f",
   "metadata": {},
   "outputs": [
    {
     "name": "stdout",
     "output_type": "stream",
     "text": [
      "[[1 2 3 4 5 1 2 3]\n",
      " [1 2 3 4 5 4 5 6]]\n"
     ]
    }
   ],
   "source": [
    "#Stacking along rows\n",
    "arr9 = np.hstack((arr2, arr7))\n",
    "print(arr9)"
   ]
  },
  {
   "cell_type": "code",
   "execution_count": 71,
   "id": "02054730",
   "metadata": {},
   "outputs": [
    {
     "name": "stdout",
     "output_type": "stream",
     "text": [
      "[[ 1  2  3  4  5]\n",
      " [ 6  7  8  9 10]]\n"
     ]
    }
   ],
   "source": [
    "#Stacking along columns\n",
    "arr10 = np.vstack((arr1, arr6))\n",
    "print(arr10)"
   ]
  },
  {
   "cell_type": "code",
   "execution_count": 72,
   "id": "782b4949",
   "metadata": {},
   "outputs": [
    {
     "name": "stdout",
     "output_type": "stream",
     "text": [
      "[[[ 1  6]\n",
      "  [ 2  7]\n",
      "  [ 3  8]\n",
      "  [ 4  9]\n",
      "  [ 5 10]]]\n"
     ]
    }
   ],
   "source": [
    "#Stacking along depth\n",
    "arr11 = np.dstack((arr1, arr6))\n",
    "print(arr11)"
   ]
  },
  {
   "cell_type": "markdown",
   "id": "941c266e",
   "metadata": {},
   "source": [
    "# Spiliting numpy arrays"
   ]
  },
  {
   "cell_type": "code",
   "execution_count": 73,
   "id": "69b6027d",
   "metadata": {},
   "outputs": [
    {
     "name": "stdout",
     "output_type": "stream",
     "text": [
      "[array([1, 2]), array([3, 4]), array([5])]\n"
     ]
    }
   ],
   "source": [
    "#Splits array into 3 parts\n",
    "new__arr = np.array_split(arr1, 3)\n",
    "print(new__arr)"
   ]
  },
  {
   "cell_type": "code",
   "execution_count": 74,
   "id": "d8e9a95d",
   "metadata": {},
   "outputs": [
    {
     "name": "stdout",
     "output_type": "stream",
     "text": [
      "[array([1, 2]), array([3]), array([4]), array([5])]\n"
     ]
    }
   ],
   "source": [
    "#splits array into 4 parts\n",
    "newarra = np.array_split(arr1, 4)\n",
    "print(newarra)"
   ]
  },
  {
   "cell_type": "markdown",
   "id": "4899d80d",
   "metadata": {},
   "source": [
    "# Splitting in arrays "
   ]
  },
  {
   "cell_type": "code",
   "execution_count": 80,
   "id": "60bce98f",
   "metadata": {},
   "outputs": [
    {
     "name": "stdout",
     "output_type": "stream",
     "text": [
      "(array([3], dtype=int64),)\n"
     ]
    }
   ],
   "source": [
    "arr12 = np.array([1, 2, 3, 4])\n",
    "x = np.where(arr12 == 4) #Returns the position where value is 4\n",
    "print(x)"
   ]
  },
  {
   "cell_type": "code",
   "execution_count": 82,
   "id": "d469f58b",
   "metadata": {},
   "outputs": [
    {
     "name": "stdout",
     "output_type": "stream",
     "text": [
      "2\n"
     ]
    }
   ],
   "source": [
    "#searching in sorted arrays\n",
    "y = np.searchsorted(arr12, 3)\n",
    "print(y)"
   ]
  },
  {
   "cell_type": "code",
   "execution_count": 83,
   "id": "8c7b7f61",
   "metadata": {},
   "outputs": [
    {
     "name": "stdout",
     "output_type": "stream",
     "text": [
      "3\n"
     ]
    }
   ],
   "source": [
    "z = np.searchsorted(arr12, 3, side='right')\n",
    "print(z)"
   ]
  },
  {
   "cell_type": "markdown",
   "id": "ea619741",
   "metadata": {},
   "source": [
    "# Sorting in arrays"
   ]
  },
  {
   "cell_type": "code",
   "execution_count": 84,
   "id": "47147e4b",
   "metadata": {},
   "outputs": [
    {
     "name": "stdout",
     "output_type": "stream",
     "text": [
      "[1 3 5 8 9]\n"
     ]
    }
   ],
   "source": [
    "arr13 = np.array([3, 5, 8, 9, 1])\n",
    "print(np.sort(arr13))"
   ]
  }
 ],
 "metadata": {
  "kernelspec": {
   "display_name": "Python 3 (ipykernel)",
   "language": "python",
   "name": "python3"
  },
  "language_info": {
   "codemirror_mode": {
    "name": "ipython",
    "version": 3
   },
   "file_extension": ".py",
   "mimetype": "text/x-python",
   "name": "python",
   "nbconvert_exporter": "python",
   "pygments_lexer": "ipython3",
   "version": "3.9.13"
  }
 },
 "nbformat": 4,
 "nbformat_minor": 5
}
